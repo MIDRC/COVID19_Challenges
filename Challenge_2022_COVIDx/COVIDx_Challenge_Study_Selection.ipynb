{
 "cells": [
  {
   "cell_type": "markdown",
   "id": "90f883e1",
   "metadata": {},
   "source": [
    "# COVIDx Challenge\n",
    "---\n",
    "**29-Aug-2022**\n",
    "\n",
    "---\n",
    "**CHALLENGE SUMMARY**: The goal of this Challenge is to train an AI/machine learning model in the task of distinguishing between COVID-negative and COVID-positive patients using frontal-view portable chest radiographs (CXRs).\n",
    "\n",
    "**DATA**: This Jupyter Notebook demonstrates how the cohort for the Chellenge Dataset was selected.\n",
    "\n",
    "*Some descriptions within this notebook were taken from the MIDRC notebook tutorial repo at https://github.com/MIDRC/tutorial_notebooks/blob/1488e64937aca3424252ed5afaf44ca3213c1d08/Cohort_Selection_Using_MIDRC_Temporal_COVID_Test_Data.ipynb*\n",
    "\n",
    "---\n",
    "If you would like to run this notebook on your own, you must have Python 3.x (and the Jupyter python package) installed on your local system. In addition, make sure you follow the instructions in the MIDRC Quick Start Guide to set up your MIDRC account. You will need to use your MIDRC credentials \"API key\" file within the notebook."
   ]
  },
  {
   "cell_type": "markdown",
   "id": "14f406ed",
   "metadata": {},
   "source": [
    "## Import Python Packages and scripts"
   ]
  },
  {
   "cell_type": "code",
   "execution_count": null,
   "id": "6a316c71",
   "metadata": {},
   "outputs": [],
   "source": [
    "# PLEASE BE AWARE that you may need to install some packages into your local instance of Python\n",
    "# so that all of the functions here will operate properly. Installing packages is beyond the scope\n",
    "# of this notebook, but the commands to install some common packages that may be needed are\n",
    "# included in the comments below.\n",
    "#\n",
    "# !pip install --upgrade pip\n",
    "# !pip install --upgrade --ignore-installed PyYAML\n",
    "# !pip install --upgrade gen3\n",
    "# !pip install cdiserrors\n",
    "\n",
    "\n",
    "## Import Python Packages and scripts\n",
    "\n",
    "import pandas as pd\n",
    "import sys, os, webbrowser\n",
    "import gen3\n",
    "import tqdm\n",
    "\n",
    "from gen3.submission import Gen3Submission\n",
    "from gen3.auth import Gen3Auth\n",
    "from gen3.index import Gen3Index\n",
    "from gen3.query import Gen3Query"
   ]
  },
  {
   "cell_type": "markdown",
   "id": "9d673ba8",
   "metadata": {},
   "source": [
    "*Make sure you change the location of your working directory in the cell below!*"
   ]
  },
  {
   "cell_type": "code",
   "execution_count": null,
   "id": "7ada071e",
   "metadata": {},
   "outputs": [],
   "source": [
    "## Define the directories for our workspace\n",
    "\n",
    "home_dir = \"/Users/ngrusz1/Downloads/jupyter-notebooks\"  #CHANGE THIS DIRECTORY to the working directory for your files!\n",
    "\n",
    "print (\"Changing to working directory: \")\n",
    "os.chdir(home_dir)\n",
    "print(os.getcwd())\n",
    "challenge_dir = \"{}/COVIDx-Challenge\".format(home_dir)\n",
    "\n",
    "\n",
    "## Make a directory to work in\n",
    "\n",
    "try:\n",
    "    os.mkdir(format(challenge_dir))\n",
    "except OSError as error:\n",
    "    print(error)\n",
    "\n",
    "    \n",
    "## Import some custom Python from the Gen3 repo\n",
    "\n",
    "os.system(\"curl -LO https://raw.githubusercontent.com/cgmeyer/gen3sdk-python/master/expansion/expansion.py\")\n",
    "# If curl is not available on your system, you can try wget or a similar tool\n",
    "#os.system(\"wget https://raw.githubusercontent.com/cgmeyer/gen3sdk-python/master/expansion/expansion.py\")\n",
    "\n",
    "print(\"Retreived additional Python scripts from Gen3 repo.\")\n",
    "%run expansion.py\n",
    "\n",
    "print (\"Changing to chellenge directory: \")\n",
    "os.chdir(challenge_dir)\n",
    "print(os.getcwd())"
   ]
  },
  {
   "cell_type": "markdown",
   "id": "9711f2c9",
   "metadata": {},
   "source": [
    "## Connect to the MIDRC Data Commons\n",
    "\n",
    "*Make sure you update the location of your MIDRC API key file in the cell below!*"
   ]
  },
  {
   "cell_type": "code",
   "execution_count": null,
   "id": "54ca0e41",
   "metadata": {},
   "outputs": [],
   "source": [
    "## Initiate instances of the Gen3 SDK Classes using credentials file uploaded. This is unnecessary with functioning WTS\n",
    "\n",
    "#CHANGE THIS FILE to the full path of your MIDRC credentials file!\n",
    "cred = '/Users/ngrusz1/Downloads/jupyter-notebooks/credentials/midrc-credentials.json'\n",
    "\n",
    "api = 'https://data.midrc.org'\n",
    "auth = Gen3Auth(api, refresh_file=cred) # authentication class\n",
    "sub = Gen3Submission(api, auth) # submission class\n",
    "query = Gen3Query(auth) # query class\n",
    "exp = Gen3Expansion(api,auth,sub) # class with some custom scripts\n",
    "exp.get_project_ids()"
   ]
  },
  {
   "cell_type": "markdown",
   "id": "a61fff29",
   "metadata": {},
   "source": [
    "## Query the MIDRC Data Commons and export metadata using submission API\n",
    "---\n",
    "Here we'll utilize the MIDRC submission API to export all the imaging study and measurement (COVID-19 tests) data using the [\"get_node_tsvs\" function](https://github.com/cgmeyer/gen3sdk-python/blob/2aecc6575b22f9cca279b650914971dd6723a2ce/expansion/expansion.py#L219), which is a wrapper to export and merge all the records in a node across each project in the data commons using the [Gen3SDK](https://github.com/uc-cdis/gen3sdk-python/) function [Gen3Submission.export_node()](https://github.com/uc-cdis/gen3sdk-python/blob/5d7b5270ff11cf7037f211cf01e410d8e73d6b84/gen3/submission.py#L361).\n",
    "\n",
    "**NOTE**: For this challenge, we are only interested in selecting cases from the *Open-A1* and *Open-R1* projects. As such, we will explicitly define this set of projects -- just in case the user has access to additional projects that we don't plan to use here!"
   ]
  },
  {
   "cell_type": "code",
   "execution_count": null,
   "id": "7daca3d8",
   "metadata": {},
   "outputs": [],
   "source": [
    "## Explicitly define the list of projects we will use in this challenge.\n",
    "\n",
    "pids = ['Open-A1','Open-R1']"
   ]
  },
  {
   "cell_type": "code",
   "execution_count": null,
   "id": "da42c62c",
   "metadata": {},
   "outputs": [],
   "source": [
    "## Export all the records in the imaging_study node\n",
    "\n",
    "st = exp.get_node_tsvs(node='imaging_study',projects=pids)\n",
    "s = st.loc[((st['project_id'] == 'Open-R1') | (st['project_id'] == 'Open-A1')) & (st['age_at_imaging'] >= 18) & ((st['study_description'] == 'XR CHEST 1 VIEW AP') | (st['study_description'] == 'CHEST PORT 1 VIEW (RAD)-CS') | (st['study_description'] == 'XR PORT CHEST 1V'))]\n",
    "s"
   ]
  },
  {
   "cell_type": "code",
   "execution_count": null,
   "id": "5a8efc99",
   "metadata": {
    "scrolled": true
   },
   "outputs": [],
   "source": [
    "## Now export all the data in the measurement node, which is used to store the COVID test data\n",
    "\n",
    "meas = exp.get_node_tsvs(node='measurement',projects=pids)\n",
    "meas.head()"
   ]
  },
  {
   "cell_type": "code",
   "execution_count": null,
   "id": "0c54927c",
   "metadata": {},
   "outputs": [],
   "source": [
    "## Filter the measurements for only COVID-19 tests with a non-null \"test_days_from_index\" property\n",
    "\n",
    "m = meas.loc[(~meas['test_days_from_index'].isna()) & (meas['test_name']=='COVID-19')]\n",
    "m"
   ]
  },
  {
   "cell_type": "code",
   "execution_count": null,
   "id": "dd864e3a",
   "metadata": {},
   "outputs": [],
   "source": [
    "## Check out the properties in each DataFrame to help make a list of properties to merge into a single table\n",
    "\n",
    "display(list(s))\n",
    "display(len(s))\n",
    "display(list(m))\n",
    "display(len(m))"
   ]
  },
  {
   "cell_type": "code",
   "execution_count": null,
   "id": "435715ad",
   "metadata": {},
   "outputs": [],
   "source": [
    "## Merge the imaging_study and measurement data using \"case_ids\" as a foreign key\n",
    "\n",
    "temp = pd.merge(s, meas, on='case_ids')\n",
    "display(temp)"
   ]
  },
  {
   "cell_type": "markdown",
   "id": "ce07dec3",
   "metadata": {},
   "source": [
    "## Calculate the days from COVID-19 test to an imaging_study\n",
    "---\n",
    "Now that we have the temporal data for imaging studies and COVID-19 tests in a single DataFrame for all cases in MIDRC for which this data is provided, we can calculate the number of days between each COVID-19 test and each imaging study, which we'll call `days_from_test_to_study`.\n",
    "\n",
    "* Note: In MIDRC, a negative \"days to XYZ\" indicates that the event XYZ took place that many days prior to the index event, while a positive \"days to\" indicates the number of days since the index event. For example, a \"days_to_study\" of \"-10\" indicates that the imaging study was performed 10 days *before* the index event. A value of \"365\" indicates the imaging study took place one year *after* the index event. \n",
    "\n",
    "We expect a positive value if the test was performed before the study.\n",
    "- So, if `test_days_from_index` is `1` and `days_to_study` is `4`, the `days_from_test_to_study` should be `3`, which means the study took place 3 days after the test. \n",
    "- If the test is on day 4 and the study is on day 1, then the `days_from_test_to_study` is `-3`, meaning the study took place 3 days before the test."
   ]
  },
  {
   "cell_type": "code",
   "execution_count": null,
   "id": "26e8415a",
   "metadata": {},
   "outputs": [],
   "source": [
    "## Calculate the days from COVID-19 test to an imaging_study\n",
    "\n",
    "temp['days_from_test_to_study'] = temp['days_to_study'] - temp['test_days_from_index']\n",
    "display(temp)"
   ]
  },
  {
   "cell_type": "markdown",
   "id": "8948a8ce",
   "metadata": {},
   "source": [
    "## Identify \"COVID-19 positive\" imaging studies\n",
    "---\n",
    "Now that we've calculated `days_from_test_to_study`, we can define a cut-off value and filter the imaging studies using that value to determine which imaging studies were performed within a certain time-frame of receiving a positive COVID-19 test.\n",
    "\n",
    "Our new property `days_from_test_to_study` has a positive value if the COVID test was performed before the imaging study (i.e., there were +3 days from the test date to the study date) and a negative value if the test was performed after the imaging study (i.e., go back in time 3 days from the test date to the study date). \n",
    "\n",
    "For this challenge, we assume that an imaging study was performed when a person was \"COVID-positive\" if the imaging study was performed up to 14-days prior to a positive test result. So, we'll filter the DataFrame of studies for a `days_from_test_to_study` in the range of 0 to 14 and also require the `test_result_text` to be `Positive`."
   ]
  },
  {
   "cell_type": "code",
   "execution_count": null,
   "id": "03ae891d",
   "metadata": {},
   "outputs": [],
   "source": [
    "ps = temp.loc[(temp['days_from_test_to_study'] <= 14) & (temp['days_from_test_to_study'] >= 0) & ((temp['test_result_text'] == 'Negative') | (temp['test_result_text'] == 'Positive'))]\n",
    "display(ps)"
   ]
  },
  {
   "cell_type": "code",
   "execution_count": null,
   "id": "0eb07f45",
   "metadata": {},
   "outputs": [],
   "source": [
    "## Define a subroutine for identifying unique study identifiers (after merging the study and \n",
    "## measurement data, each study will appear in multiple rows of the resulting table if a patient \n",
    "## has multiple COVID tests)\n",
    "\n",
    "def unique(items):\n",
    "    items = list(items)\n",
    "    ht = {}\n",
    "    unique_list = []\n",
    "    for i in items:\n",
    "        if ht.get(i) == None:\n",
    "            unique_list.append(i)\n",
    "            ht[i] = True\n",
    "    return unique_list"
   ]
  },
  {
   "cell_type": "code",
   "execution_count": null,
   "id": "749b1d14",
   "metadata": {},
   "outputs": [],
   "source": [
    "## Identify the most recent COVID test prior to the imaging study within the preset time window in order\n",
    "## to determine the \"COVID status\" of a study. This is because, for example, a patient may test Negative \n",
    "## on day 1, test Positive on day 10, and then be imaged on day 13. In this case, the imaging study appear\n",
    "## twice in the table after filtering the full merged table for the time window with both 'Negative' \n",
    "## and 'Positive' labels. We will pick most recent test result.\n",
    "\n",
    "# PLEASE NOTE this step may take a long time to run. Scroll down in the output window to see the status.\n",
    "\n",
    "rs = pd.DataFrame(columns = temp.columns)\n",
    "studies = unique(ps['study_uid'])\n",
    "num_studies = len(studies)\n",
    "for i in tqdm.tqdm(range(num_studies), desc = 'Creating Reference Standard Table', ascii = False, ncols = 133):\n",
    "    i = studies[i]\n",
    "    study_frame = ps.loc[ps['study_uid'] == i] # get all entries for a given study\n",
    "    min_day = min(study_frame['days_from_test_to_study']) #get the closest covid test for the study\n",
    "    rs = rs.append(study_frame.loc[(study_frame['days_from_test_to_study'] == min_day)].iloc[0])\n",
    "print(rs)\n",
    "print(rs.columns)\n",
    "filename = 'DX_imaging_studies_plus_covid_tests.tsv'\n",
    "rs_filename = 'COVIDx_training_imagingStudy_COVIDstatus.tsv'\n",
    "os.chdir(challenge_dir)\n",
    "ps.to_csv(filename,sep='\\t',index = False)\n",
    "rs.to_csv(rs_filename, sep = '\\t', index = False)"
   ]
  },
  {
   "cell_type": "markdown",
   "id": "0d6611e8",
   "metadata": {},
   "source": [
    "## Get the imaging files for the identified studies or cases.\n",
    "---\n",
    "Now that we have a list of imaging studies that were deemed to take place when a patient was infected with COVID-19, we can use the study_uid, which is a unique identifier for imaging studies, to collect the associated files. If we want *all* the imaging studies for the cohort of identified cases, e.g., to have a \"healthy\" or \"baseline\" images for comparison, we can instead use the case_ids to pull all imaging files for the cases, keeping in mind that this will pull any additional imaging studies that may fall outside our defined temporal range."
   ]
  },
  {
   "cell_type": "code",
   "execution_count": null,
   "id": "a0c1418a",
   "metadata": {},
   "outputs": [],
   "source": [
    "## Make a list of study_uids and case_ids\n",
    "\n",
    "cids = list(set(rs['case_ids']))\n",
    "display(len(cids))\n",
    "\n",
    "sids = list(set(rs['study_uid']))\n",
    "display(len(sids))"
   ]
  },
  {
   "cell_type": "code",
   "execution_count": null,
   "id": "bce33b35",
   "metadata": {},
   "outputs": [],
   "source": [
    "## This query retrieves ALL imaging_study records. We will eventually filter these results based on the COVID test data\n",
    "\n",
    "res = query.query(\n",
    "    data_type=\"imaging_study\",\n",
    "    first=60000,\n",
    "    fields=[\n",
    "              \"study_uid\",\n",
    "              \"case_ids\",\n",
    "              \"object_id\",\n",
    "              \"project_id\"\n",
    "           ]\n",
    ")"
   ]
  },
  {
   "cell_type": "code",
   "execution_count": null,
   "id": "0e208569",
   "metadata": {},
   "outputs": [],
   "source": [
    "## Take a glance at the returned data\n",
    "\n",
    "st = res['data']['imaging_study']\n",
    "display(len(st))\n",
    "st[1:2]"
   ]
  },
  {
   "cell_type": "code",
   "execution_count": null,
   "id": "1938fccb",
   "metadata": {},
   "outputs": [],
   "source": [
    "## Convert the query data to a DataFrame and remove any records that lack a study_uid or object_id\n",
    "\n",
    "oids = pd.DataFrame(st)\n",
    "oids = oids.loc[(~oids['object_id'].isna())&(~oids['study_uid'].isna())]\n",
    "len(oids)"
   ]
  },
  {
   "cell_type": "code",
   "execution_count": null,
   "id": "0b0e251f",
   "metadata": {},
   "outputs": [],
   "source": [
    "## Now filter the imaging studies based on our temporal results\n",
    "\n",
    "toids = oids.loc[oids['study_uid'].isin(sids)]\n",
    "len(toids)"
   ]
  },
  {
   "cell_type": "code",
   "execution_count": null,
   "id": "67e6e328",
   "metadata": {},
   "outputs": [],
   "source": [
    "## Take a glance at the results\n",
    "\n",
    "display(toids)"
   ]
  },
  {
   "cell_type": "code",
   "execution_count": null,
   "id": "2bf34049",
   "metadata": {},
   "outputs": [],
   "source": [
    "## Save our result to a DataFrame\n",
    "\n",
    "results_name = \"Imaging_Covid_Status_Object_Names.tsv\"\n",
    "toids.to_csv(results_name,sep='\\t',index=False)\n",
    "\n",
    "object_ids = list(set([a for b in toids.object_id.tolist() for a in b]))\n",
    "\n",
    "len(object_ids)\n",
    "\n",
    "manifest = [{\"object_id\":i} for i in object_ids]\n",
    "display(len(manifest))\n",
    "display(manifest)\n",
    "\n",
    "mani_name = 'MIDRC_COVIDx_challenge_1_imaging_studies_covid_manifest.json'\n",
    "with open(mani_name,'w') as mani: \n",
    "      mani.write(str(manifest))"
   ]
  },
  {
   "cell_type": "code",
   "execution_count": null,
   "id": "b97355b3",
   "metadata": {},
   "outputs": [],
   "source": [
    "## We should now have all the metadata files we need as well as a Gen3 manifest file for downloading the associated images!\n",
    "## Check the working directory for the files!\n",
    "\n",
    "print(os.getcwd())\n",
    "os.listdir(os.getcwd())"
   ]
  },
  {
   "cell_type": "code",
   "execution_count": null,
   "id": "43783e7a",
   "metadata": {},
   "outputs": [],
   "source": []
  }
 ],
 "metadata": {
  "kernelspec": {
   "display_name": "Python 3 (ipykernel)",
   "language": "python",
   "name": "python3"
  },
  "language_info": {
   "codemirror_mode": {
    "name": "ipython",
    "version": 3
   },
   "file_extension": ".py",
   "mimetype": "text/x-python",
   "name": "python",
   "nbconvert_exporter": "python",
   "pygments_lexer": "ipython3",
   "version": "3.10.6"
  }
 },
 "nbformat": 4,
 "nbformat_minor": 5
}
